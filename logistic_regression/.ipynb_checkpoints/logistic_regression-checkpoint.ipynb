{
 "cells": [
  {
   "cell_type": "code",
   "execution_count": 231,
   "metadata": {},
   "outputs": [],
   "source": [
    "# read data\n",
    "\n",
    "import pandas as pd\n",
    "import numpy as np\n",
    "\n",
    "from math import *\n",
    "import matplotlib.pyplot as plt\n",
    "%matplotlib inline\n",
    "\n",
    "import seaborn as sns\n",
    "sns.set_context('notebook')\n",
    "sns.set_style('white')\n",
    "import scipy.optimize as op\n",
    "\n",
    "train = np.loadtxt('ex2data1.txt', delimiter=',')\n"
   ]
  },
  {
   "cell_type": "code",
   "execution_count": 268,
   "metadata": {},
   "outputs": [],
   "source": [
    "# seperate data into inputs and outputs \n",
    "def split_data(data):\n",
    "    X = data[:, 0:2]\n",
    "    y = data[:, 2]\n",
    "    return X, y\n",
    "\n",
    "X, y = split_data(train)"
   ]
  },
  {
   "cell_type": "code",
   "execution_count": 272,
   "metadata": {},
   "outputs": [
    {
     "data": {
      "image/png": "[encoded data removed]",
      "text/plain": [
       "<matplotlib.figure.Figure at 0x10a2da310>"
      ]
     },
     "metadata": {},
     "output_type": "display_data"
    }
   ],
   "source": [
    "# visualise the data\n",
    "\n",
    "def plot_data(X, y):\n",
    "    pos = np.where(y == 1)\n",
    "    neg = np.where(y == 0)\n",
    "\n",
    "    # TODO: fix so it has legend\n",
    "    plt.scatter(X[pos,0], X[pos,1], marker='+', c='k', label='Admitted')\n",
    "    plt.scatter(X[neg,0], X[neg,1], marker='o', c='y', label='Not Admitted')\n",
    "    plt.ylabel('Exam Score 1')\n",
    "    plt.xlabel('Exam Score 2')\n",
    "    plt.legend(loc='upper right')\n",
    "    plt.show()\n",
    "    plt.close()\n",
    "plot_data(X, y)"
   ]
  },
  {
   "cell_type": "code",
   "execution_count": 234,
   "metadata": {},
   "outputs": [],
   "source": [
    "# sigmoid function implementation\n",
    "# should apply to matrices as well\n",
    "def sigmoid(z):\n",
    "    g = (1 / (1 + np.exp(-z)))\n",
    "    return g\n"
   ]
  },
  {
   "cell_type": "code",
   "execution_count": 252,
   "metadata": {},
   "outputs": [
    {
     "name": "stdout",
     "output_type": "stream",
     "text": [
      "[ 0.  0.  0.]\n",
      "inital values of cost & gradient:\n",
      "cost: 0.69314718056\n",
      "grad: [ -0.1        -12.00921659 -11.26284221]\n"
     ]
    }
   ],
   "source": [
    "# cost function for logistic regression \n",
    "def cost_function(theta, X, y):\n",
    "    \n",
    "    m = len(y)\n",
    "\n",
    "    h_theta = sigmoid(X.dot(theta))\n",
    "    \n",
    "    term1 = (np.log(h_theta).T).dot(y)\n",
    "    term2 = np.log(1 - h_theta).T.dot(1-y)\n",
    "    \n",
    "    cost = -1*(1./m)*(term1 + term2)\n",
    "    \n",
    "    return cost[0]\n",
    "\n",
    "\n",
    "# gradient required for gradient descent to 'optimal' solution\n",
    "def gradient(theta, X, y):\n",
    "    m = len(y)\n",
    "    h_theta = sigmoid(X.dot(theta.reshape(-1,1)))\n",
    "    grad = (1. / m) * X.T.dot(h_theta - y)\n",
    "    return grad.flatten()\n",
    "\n",
    "[m, n] = np.shape(X) # m = # of training examples, n = # of features per training example\n",
    "X = np.c_[np.ones((train.shape[0],1)), train[:,0:2]]\n",
    "y = np.c_[train[:,2]]\n",
    "\n",
    "initial_theta = np.zeros(X.shape[1])\n",
    "print initial_theta\n",
    "\n",
    "cost = cost_function(initial_theta, X, y)\n",
    "grad = gradient(initial_theta, X, y)\n",
    "\n",
    "print 'inital values of cost & gradient:'\n",
    "print 'cost: ' + str(cost)\n",
    "print 'grad: ' + str(grad)"
   ]
  },
  {
   "cell_type": "code",
   "execution_count": 266,
   "metadata": {},
   "outputs": [
    {
     "name": "stdout",
     "output_type": "stream",
     "text": [
      "      fun: 0.20349770158944375\n",
      " hess_inv: array([[  3.31474479e+03,  -2.63892205e+01,  -2.70237122e+01],\n",
      "       [ -2.63892205e+01,   2.23869433e-01,   2.02682332e-01],\n",
      "       [ -2.70237122e+01,   2.02682332e-01,   2.35335117e-01]])\n",
      "      jac: array([ -9.52476818e-09,  -9.31921316e-07,  -2.82608929e-07])\n",
      "  message: 'Optimization terminated successfully.'\n",
      "     nfev: 31\n",
      "      nit: 23\n",
      "     njev: 31\n",
      "   status: 0\n",
      "  success: True\n",
      "        x: array([-25.16133284,   0.2062317 ,   0.2014716 ])\n",
      "[-25.16133284   0.2062317    0.2014716 ]\n",
      "[0 0 0 1 1 0 1 0 1 1 1 0 1 1 0 1 0 0 1 1 0 1 0 0 1 1 1 1 0 0 1 1 0 0 0 0 1\n",
      " 1 0 0 1 0 1 1 0 0 1 1 1 1 1 1 1 0 0 0 1 1 1 1 1 0 0 0 0 0 1 0 1 1 0 1 1 1\n",
      " 1 1 1 1 0 1 1 1 1 0 1 1 0 1 1 0 1 1 0 1 1 1 1 1 0 1]\n",
      "Train accuracy 89%\n"
     ]
    },
    {
     "name": "stderr",
     "output_type": "stream",
     "text": [
      "/usr/local/lib/python2.7/site-packages/ipykernel_launcher.py:9: RuntimeWarning: divide by zero encountered in log\n",
      "  if __name__ == '__main__':\n"
     ]
    }
   ],
   "source": [
    "# predict wether students admitted or not\n",
    "# first build gradient descent method using scipy\n",
    "\n",
    "def fminunc(theta, X, y):\n",
    "    res = op.minimize(cost_function, theta, (X, y), method = None, jac = gradient, options={'maxiter':400});\n",
    "    print res\n",
    "    optimal_theta = res.x;\n",
    "    return optimal_theta\n",
    "\n",
    "def predict(theta, X):\n",
    "    p = sigmoid(X.dot(theta)) >= 0.5\n",
    "    return p.astype(int)\n",
    "\n",
    "optimal_theta = fminunc(initial_theta, X, y)\n",
    "print optimal_theta\n",
    "p = predict(optimal_theta, X)\n",
    "print p\n",
    "\n",
    "print('Train accuracy: {}%'.format(100*sum(p == y.ravel())/p.size))\n"
   ]
  },
  {
   "cell_type": "code",
   "execution_count": 269,
   "metadata": {},
   "outputs": [],
   "source": [
    "\"\"\"regularised logistic regression\"\"\"\n",
    "\n",
    "ex2p2 = np.loadtxt('ex2data2.txt', delimiter=',')\n",
    "\n",
    "X2, y2 = split_data(ex2p2)"
   ]
  },
  {
   "cell_type": "code",
   "execution_count": 273,
   "metadata": {},
   "outputs": [
    {
     "data": {
      "image/png": "[encoded data removed]",
      "text/plain": [
       "<matplotlib.figure.Figure at 0x10a2fe850>"
      ]
     },
     "metadata": {},
     "output_type": "display_data"
    }
   ],
   "source": [
    "plot_data(X2, y2)"
   ]
  },
  {
   "cell_type": "code",
   "execution_count": null,
   "metadata": {
    "collapsed": true
   },
   "outputs": [],
   "source": []
  }
 ],
 "metadata": {
  "kernelspec": {
   "display_name": "Python 2",
   "language": "python",
   "name": "python2"
  },
  "language_info": {
   "codemirror_mode": {
    "name": "ipython",
    "version": 2
   },
   "file_extension": ".py",
   "mimetype": "text/x-python",
   "name": "python",
   "nbconvert_exporter": "python",
   "pygments_lexer": "ipython2",
   "version": "2.7.12"
  }
 },
 "nbformat": 4,
 "nbformat_minor": 2
}
