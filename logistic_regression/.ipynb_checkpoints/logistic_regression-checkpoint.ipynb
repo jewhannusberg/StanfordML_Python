{
 "cells": [
  {
   "cell_type": "code",
   "execution_count": 62,
   "metadata": {},
   "outputs": [
    {
     "name": "stdout",
     "output_type": "stream",
     "text": [
      "   Exam Score 1  Exam Score 2  Admission\n",
      "0     34.623660     78.024693          0\n",
      "1     30.286711     43.894998          0\n",
      "2     35.847409     72.902198          0\n",
      "3     60.182599     86.308552          1\n",
      "4     79.032736     75.344376          1\n"
     ]
    }
   ],
   "source": [
    "# read data\n",
    "\n",
    "import pandas as pd\n",
    "import numpy as np\n",
    "\n",
    "from math import *\n",
    "import matplotlib.pyplot as plt\n",
    "%matplotlib inline\n",
    "\n",
    "train = pd.read_csv('ex2data1.txt', header=None)\n",
    "train.columns = ['Exam Score 1', 'Exam Score 2', 'Admission']\n",
    "\n",
    "\n",
    "print train.head()\n",
    "\n"
   ]
  },
  {
   "cell_type": "code",
   "execution_count": 63,
   "metadata": {},
   "outputs": [
    {
     "name": "stdout",
     "output_type": "stream",
     "text": [
      "   Exam Score 1  Exam Score 2\n",
      "0     34.623660     78.024693\n",
      "1     30.286711     43.894998\n",
      "2     35.847409     72.902198\n",
      "3     60.182599     86.308552\n",
      "4     79.032736     75.344376\n",
      "--------------\n",
      "[0 1]\n"
     ]
    }
   ],
   "source": [
    "# seperate data into training and testing \n",
    "\n",
    "x = train.iloc[:,0:2] # not inclusive of end\n",
    "y = train.iloc[:,2] # this makes y a pandas series\n",
    "\n",
    "print x.head()\n",
    "print'--------------'\n",
    "print y.unique()"
   ]
  },
  {
   "cell_type": "code",
   "execution_count": 64,
   "metadata": {},
   "outputs": [
    {
     "data": {
      "image/png": "[encoded data removed]",
      "text/plain": [
       "<matplotlib.figure.Figure at 0x10a1da410>"
      ]
     },
     "metadata": {},
     "output_type": "display_data"
    }
   ],
   "source": [
    "# visualise the data\n",
    "\n",
    "\n",
    "# TODO: fix so it has legend\n",
    "plt.scatter(x['Exam Score 1'], x['Exam Score 2'], c=y)\n",
    "plt.ylabel('Exam Score 1')\n",
    "plt.xlabel('Exam Score 2')\n",
    "plt.show()\n",
    "plt.close()\n",
    "\n",
    "# ggplot(train, aes(x='Exam Score 1', y='Exam Score 2', colour='Admission')) +\\\n",
    "#     geom_point()"
   ]
  },
  {
   "cell_type": "code",
   "execution_count": 71,
   "metadata": {},
   "outputs": [
    {
     "name": "stdout",
     "output_type": "stream",
     "text": [
      "1.0\n",
      "0.500025\n",
      "0.622459331202\n"
     ]
    }
   ],
   "source": [
    "# sigmoid function implementation\n",
    "# should apply to matrices as well\n",
    "def sigmoid(x):\n",
    "    # TODO: pre-append g for speed purposes\n",
    "    \"Numerically stable sigmoid function.\"\n",
    "    if x >= 0:\n",
    "        z = exp(-x)\n",
    "        return 1 / (1 + z)\n",
    "    else:\n",
    "        # if x is less than zero then z will be small, denom can't be\n",
    "        # zero because it's 1+z.\n",
    "        z = exp(x)\n",
    "        return z / (1 + z)\n",
    "\n",
    "# test the sigmoid function\n",
    "print sigmoid(50000) # should be 1\n",
    "print sigmoid(0.0001) \n",
    "print sigmoid(0) # should be 0.5"
   ]
  },
  {
   "cell_type": "code",
   "execution_count": null,
   "metadata": {
    "collapsed": true
   },
   "outputs": [],
   "source": []
  }
 ],
 "metadata": {
  "kernelspec": {
   "display_name": "Python 2",
   "language": "python",
   "name": "python2"
  },
  "language_info": {
   "codemirror_mode": {
    "name": "ipython",
    "version": 2
   },
   "file_extension": ".py",
   "mimetype": "text/x-python",
   "name": "python",
   "nbconvert_exporter": "python",
   "pygments_lexer": "ipython2",
   "version": "2.7.12"
  }
 },
 "nbformat": 4,
 "nbformat_minor": 2
}
