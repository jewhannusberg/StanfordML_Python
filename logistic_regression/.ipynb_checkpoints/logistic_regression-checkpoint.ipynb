{
 "cells": [
  {
   "cell_type": "code",
   "execution_count": 231,
   "metadata": {},
   "outputs": [],
   "source": [
    "# read data\n",
    "\n",
    "import pandas as pd\n",
    "import numpy as np\n",
    "\n",
    "from math import *\n",
    "import matplotlib.pyplot as plt\n",
    "%matplotlib inline\n",
    "\n",
    "import seaborn as sns\n",
    "sns.set_context('notebook')\n",
    "sns.set_style('white')\n",
    "\n",
    "\n",
    "train = np.loadtxt('ex2data1.txt', delimiter=',')\n"
   ]
  },
  {
   "cell_type": "code",
   "execution_count": 232,
   "metadata": {},
   "outputs": [],
   "source": [
    "# seperate data into inputs and outputs \n",
    "X = train[:, 0:2]\n",
    "y = train[:, 2]\n"
   ]
  },
  {
   "cell_type": "code",
   "execution_count": 233,
   "metadata": {},
   "outputs": [
    {
     "data": {
      "image/png": "[encoded data removed]",
      "text/plain": [
       "<matplotlib.figure.Figure at 0x109f407d0>"
      ]
     },
     "metadata": {},
     "output_type": "display_data"
    }
   ],
   "source": [
    "# visualise the data\n",
    "import matplotlib.pyplot as plt\n",
    "%matplotlib inline\n",
    "\n",
    "pos = np.where(y == 1)\n",
    "neg = np.where(y == 0)\n",
    "\n",
    "# TODO: fix so it has legend\n",
    "plt.scatter(X[pos,0], X[pos,1], marker='+', c='k', label='Admitted')\n",
    "plt.scatter(X[neg,0], X[neg,1], marker='o', c='y', label='Not Admitted')\n",
    "plt.ylabel('Exam Score 1')\n",
    "plt.xlabel('Exam Score 2')\n",
    "plt.legend(loc='upper right')\n",
    "plt.show()\n",
    "plt.close()\n"
   ]
  },
  {
   "cell_type": "code",
   "execution_count": 234,
   "metadata": {},
   "outputs": [],
   "source": [
    "# sigmoid function implementation\n",
    "# should apply to matrices as well\n",
    "def sigmoid(z):\n",
    "    g = (1 / (1 + np.exp(-z)))\n",
    "    return g\n"
   ]
  },
  {
   "cell_type": "code",
   "execution_count": 239,
   "metadata": {},
   "outputs": [
    {
     "name": "stdout",
     "output_type": "stream",
     "text": [
      "inital values of cost & gradient:\n",
      "cost: 0.69314718056\n",
      "grad: [ -0.1        -12.00921659 -11.26284221]\n"
     ]
    }
   ],
   "source": [
    "# cost function for logistic regression \n",
    "def cost_function(theta, X, y):\n",
    "    \n",
    "    m = len(y)\n",
    "\n",
    "    h_theta = sigmoid(X.dot(theta))\n",
    "    \n",
    "    term1 = (np.log(h_theta).T).dot(y)\n",
    "    term2 = np.log(1 - h_theta).T.dot(1-y)\n",
    "    \n",
    "    cost = -1*(1./m)*(term1 + term2)\n",
    "    \n",
    "    return cost[0]\n",
    "\n",
    "\n",
    "# gradient required for gradient descent to 'optimal' solution\n",
    "def gradient(theta, X, y):\n",
    "    m = len(y)\n",
    "    h_theta = sigmoid(X.dot(theta.reshape(-1,1)))\n",
    "    grad = (1. / m) * X.T.dot(h_theta - y)\n",
    "    return grad\n",
    "\n",
    "[m, n] = np.shape(X) # m = # of training examples, n = # of features per training example\n",
    "X = np.c_[np.ones((train.shape[0],1)), train[:,0:2]]\n",
    "y = np.c_[train[:,2]]\n",
    "\n",
    "initial_theta = np.zeros(X.shape[1])\n",
    "\n",
    "cost = cost_function(initial_theta, X, y)\n",
    "grad = gradient(initial_theta, X, y)\n",
    "\n",
    "print 'inital values of cost & gradient:'\n",
    "print 'cost: ' + str(cost)\n",
    "print 'grad: ' + str(grad.flatten())"
   ]
  },
  {
   "cell_type": "code",
   "execution_count": null,
   "metadata": {
    "collapsed": true
   },
   "outputs": [],
   "source": []
  }
 ],
 "metadata": {
  "kernelspec": {
   "display_name": "Python 2",
   "language": "python",
   "name": "python2"
  },
  "language_info": {
   "codemirror_mode": {
    "name": "ipython",
    "version": 2
   },
   "file_extension": ".py",
   "mimetype": "text/x-python",
   "name": "python",
   "nbconvert_exporter": "python",
   "pygments_lexer": "ipython2",
   "version": "2.7.12"
  }
 },
 "nbformat": 4,
 "nbformat_minor": 2
}
